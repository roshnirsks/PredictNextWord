{
 "cells": [
  {
   "cell_type": "code",
   "execution_count": 1,
   "metadata": {},
   "outputs": [],
   "source": [
    "import pandas as pd\n",
    "import time"
   ]
  },
  {
   "cell_type": "code",
   "execution_count": 18,
   "metadata": {},
   "outputs": [
    {
     "name": "stdout",
     "output_type": "stream",
     "text": [
      "Type your dataset name: (roshni.csv)\n",
      "roshni.csv\n",
      "Type your 1st word:\n",
      "roshni\n"
     ]
    }
   ],
   "source": [
    "datafile = input(\"Type your dataset name: (roshni.csv)\\n\")\n",
    "df = pd.read_csv(datafile)\n",
    "kata = input(\"Type your 1st word:\\n\")\n",
    "start = time.time()\n",
    "dfsearch = df.loc[df['word1'] == kata]\n",
    "newdf = pd.DataFrame(columns=[\"word1\", \"word2\", \"freqs\"])\n",
    "freqstotalkiri = 0 \n",
    "freqstotalkanan = 0 ## frekuensi total dari tabel word2\n",
    "maks = 0 \n",
    "hasilpredict = '' ## hasil prediction\n",
    "\n",
    "for index, row in dfsearch.iterrows():\n",
    "    freqword = 0\n",
    "    cariword2 = df.loc[df['word2'] == row['word2']]\n",
    "    for freq in cariword2.freqs:\n",
    "        freqword += freq\n",
    "    freqstotalkanan += freqword\n",
    "    freqstotalkiri += int(row['freqs'])\n",
    "\n",
    "for index, row in dfsearch.iterrows():\n",
    "    \n",
    "    cari1 = df.loc[(df['word1'] == kata) & (df['word2'] == row['word2'])]\n",
    "    freq1 = 0\n",
    "    for freq in cari1.freqs:\n",
    "        freq1 += int(freq)\n",
    "\n",
    "    freq2 = 0\n",
    "    cari2 = df.loc[df['word2'] == row['word2']]\n",
    "    for freq in cari2.freqs:\n",
    "        freq2 += int(freq)\n",
    "\n",
    "    p1 = freq1 / freq2\n",
    "    p2 = freq2 / freqstotalkanan\n",
    "    p3 = freqstotalkiri / freqstotalkanan\n",
    "\n",
    "    rumus = (p1 * p2) / p3\n",
    "    if rumus > maks:\n",
    "        maks = rumus\n",
    "        hasilpredict = row['word2']\n",
    "\n"
   ]
  },
  {
   "cell_type": "code",
   "execution_count": 19,
   "metadata": {},
   "outputs": [
    {
     "name": "stdout",
     "output_type": "stream",
     "text": [
      "Result:\n",
      "roshni kumari\n",
      "\n"
     ]
    }
   ],
   "source": [
    "print(\"Result:\")\n",
    "print(kata, hasilpredict)\n",
    "print()\n",
    "\n",
    "\n"
   ]
  },
  {
   "cell_type": "code",
   "execution_count": 20,
   "metadata": {},
   "outputs": [
    {
     "name": "stdout",
     "output_type": "stream",
     "text": [
      "With score:\n",
      "1.0\n",
      "\n"
     ]
    }
   ],
   "source": [
    "print(\"With score:\")\n",
    "print(rumus)\n",
    "print()"
   ]
  },
  {
   "cell_type": "code",
   "execution_count": 21,
   "metadata": {},
   "outputs": [
    {
     "name": "stdout",
     "output_type": "stream",
     "text": [
      "Process duration:\n",
      "2.489631175994873\n"
     ]
    }
   ],
   "source": [
    "end = time.time()\n",
    "print(\"Process duration:\")\n",
    "print(end - start)"
   ]
  },
  {
   "cell_type": "code",
   "execution_count": null,
   "metadata": {},
   "outputs": [],
   "source": []
  },
  {
   "cell_type": "code",
   "execution_count": null,
   "metadata": {},
   "outputs": [],
   "source": []
  }
 ],
 "metadata": {
  "kernelspec": {
   "display_name": "Python 3",
   "language": "python",
   "name": "python3"
  },
  "language_info": {
   "codemirror_mode": {
    "name": "ipython",
    "version": 3
   },
   "file_extension": ".py",
   "mimetype": "text/x-python",
   "name": "python",
   "nbconvert_exporter": "python",
   "pygments_lexer": "ipython3",
   "version": "3.6.5"
  }
 },
 "nbformat": 4,
 "nbformat_minor": 2
}
